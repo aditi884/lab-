{
  "nbformat": 4,
  "nbformat_minor": 0,
  "metadata": {
    "colab": {
      "provenance": [],
      "authorship_tag": "ABX9TyMrnOM/omRN5B49G/caETh5",
      "include_colab_link": true
    },
    "kernelspec": {
      "name": "python3",
      "display_name": "Python 3"
    },
    "language_info": {
      "name": "python"
    }
  },
  "cells": [
    {
      "cell_type": "markdown",
      "metadata": {
        "id": "view-in-github",
        "colab_type": "text"
      },
      "source": [
        "<a href=\"https://colab.research.google.com/github/aditi884/lab-/blob/main/Aditi_py.ipynb\" target=\"_parent\"><img src=\"https://colab.research.google.com/assets/colab-badge.svg\" alt=\"Open In Colab\"/></a>"
      ]
    },
    {
      "cell_type": "code",
      "execution_count": 32,
      "metadata": {
        "colab": {
          "base_uri": "https://localhost:8080/"
        },
        "id": "wM6BRMnLsJQE",
        "outputId": "3e476f47-d126-4da8-8165-1c8ad656b90d"
      },
      "outputs": [
        {
          "output_type": "stream",
          "name": "stdout",
          "text": [
            "[[[1 2]\n",
            "  [2 4]]\n",
            "\n",
            " [[1 2]\n",
            "  [3 4]]]\n",
            "3\n",
            "(2, 2, 2)\n",
            "int64\n",
            "[[0. 0. 0.]]\n",
            "[[1. 1. 1. 1. 1.]\n",
            " [1. 1. 1. 1. 1.]\n",
            " [1. 1. 1. 1. 1.]\n",
            " [1. 1. 1. 1. 1.]]\n",
            "[[1. 0. 0. 0. 0.]\n",
            " [0. 1. 0. 0. 0.]\n",
            " [0. 0. 1. 0. 0.]\n",
            " [0. 0. 0. 1. 0.]\n",
            " [0. 0. 0. 0. 1.]]\n",
            "[1 3 5 7 9]\n",
            "[ 0.   2.5  5.   7.5 10. ]\n",
            "5\n",
            "[3 6]\n",
            "[[1 2]\n",
            " [3 4]\n",
            " [5 6]]\n",
            "[1 2 3 4 5 6]\n",
            "[5 7 9]\n",
            "[ 4 10 18]\n",
            "[[11 21 31]\n",
            " [12 22 32]\n",
            " [13 23 33]]\n",
            "10\n",
            "2.5\n",
            "[3 4]\n",
            "2.5\n",
            "[4 5]\n"
          ]
        }
      ],
      "source": [
        "import numpy as np\n",
        "a=np.array([[[1,2],[2,4]],[[1,2],[3,4]]])\n",
        "print(a)\n",
        "print(a.ndim) #dimension\n",
        "print(a.shape) #rows and cols and matrix as well if needed\n",
        "print(a.dtype) #data type  int64>int >U3> for string  >U32> for mixed\n",
        "b=np.zeros([1,3]) # print 0\n",
        "print(b)\n",
        "c=np.ones([4,5]) #print 1\n",
        "print(c)\n",
        "d=np.eye(5) #identity matrix\n",
        "print(d)\n",
        "e=np.arange(1,10,2) #start stop step\n",
        "print(e)\n",
        "f=np.linspace(0,10,5) #count value, stop value, value to split\n",
        "print(f)        #0      1\n",
        "arr=np.array([[1,2,3],[4,5,6]])\n",
        "print(arr[1,1]) #indexing\n",
        "print(arr[:,2]) #slicing\n",
        "print(arr.reshape(3,2)) #reshape the array\n",
        "print(arr.flatten()) #flat the matrix to 1D\n",
        "\n",
        "A=np.array([1,2,3])\n",
        "B=np.array([4,5,6])\n",
        "print(A+B)\n",
        "print(A*B)\n",
        "#broadcasting\n",
        "C=np.array([[1],[2],[3]]) #like a multipication of matrix\n",
        "D=np.array([10,20,30])\n",
        "print(C+D)\n",
        "\n",
        "ar=np.array([[1,2],[3,4]])\n",
        "print(ar.sum())\n",
        "print(ar.mean())\n",
        "print(ar.max(axis=0))  #0-> rows  1->cols\n",
        "print(np.median(ar))\n",
        "\n",
        "t=np.array([1,2,3,4,5])\n",
        "mask=t>3\n",
        "print(t[mask])  #filter the nember grater than 3"
      ]
    }
  ]
}