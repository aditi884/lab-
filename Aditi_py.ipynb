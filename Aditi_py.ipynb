{
  "nbformat": 4,
  "nbformat_minor": 0,
  "metadata": {
    "colab": {
      "provenance": [],
      "authorship_tag": "ABX9TyP7fLMOUTMBLgMSsLZh5PBh",
      "include_colab_link": true
    },
    "kernelspec": {
      "name": "python3",
      "display_name": "Python 3"
    },
    "language_info": {
      "name": "python"
    }
  },
  "cells": [
    {
      "cell_type": "markdown",
      "metadata": {
        "id": "view-in-github",
        "colab_type": "text"
      },
      "source": [
        "<a href=\"https://colab.research.google.com/github/aditi884/lab-/blob/main/Aditi_py.ipynb\" target=\"_parent\"><img src=\"https://colab.research.google.com/assets/colab-badge.svg\" alt=\"Open In Colab\"/></a>"
      ]
    },
    {
      "cell_type": "code",
      "execution_count": null,
      "metadata": {
        "colab": {
          "base_uri": "https://localhost:8080/"
        },
        "id": "wM6BRMnLsJQE",
        "outputId": "3e476f47-d126-4da8-8165-1c8ad656b90d"
      },
      "outputs": [
        {
          "output_type": "stream",
          "name": "stdout",
          "text": [
            "[[[1 2]\n",
            "  [2 4]]\n",
            "\n",
            " [[1 2]\n",
            "  [3 4]]]\n",
            "3\n",
            "(2, 2, 2)\n",
            "int64\n",
            "[[0. 0. 0.]]\n",
            "[[1. 1. 1. 1. 1.]\n",
            " [1. 1. 1. 1. 1.]\n",
            " [1. 1. 1. 1. 1.]\n",
            " [1. 1. 1. 1. 1.]]\n",
            "[[1. 0. 0. 0. 0.]\n",
            " [0. 1. 0. 0. 0.]\n",
            " [0. 0. 1. 0. 0.]\n",
            " [0. 0. 0. 1. 0.]\n",
            " [0. 0. 0. 0. 1.]]\n",
            "[1 3 5 7 9]\n",
            "[ 0.   2.5  5.   7.5 10. ]\n",
            "5\n",
            "[3 6]\n",
            "[[1 2]\n",
            " [3 4]\n",
            " [5 6]]\n",
            "[1 2 3 4 5 6]\n",
            "[5 7 9]\n",
            "[ 4 10 18]\n",
            "[[11 21 31]\n",
            " [12 22 32]\n",
            " [13 23 33]]\n",
            "10\n",
            "2.5\n",
            "[3 4]\n",
            "2.5\n",
            "[4 5]\n"
          ]
        }
      ],
      "source": [
        "import numpy as np\n",
        "a=np.array([[[1,2],[2,4]],[[1,2],[3,4]]])\n",
        "print(a)\n",
        "print(a.ndim) #dimension\n",
        "print(a.shape) #rows and cols and matrix as well if needed\n",
        "print(a.dtype) #data type  int64>int >U3> for string  >U32> for mixed\n",
        "b=np.zeros([1,3]) # print 0\n",
        "print(b)\n",
        "c=np.ones([4,5]) #print 1\n",
        "print(c)\n",
        "d=np.eye(5) #identity matrix\n",
        "print(d)\n",
        "e=np.arange(1,10,2) #start stop step\n",
        "print(e)\n",
        "f=np.linspace(0,10,5) #count value, stop value, value to split\n",
        "print(f)        #0      1\n",
        "arr=np.array([[1,2,3],[4,5,6]])\n",
        "print(arr[1,1]) #indexing\n",
        "print(arr[:,2]) #slicing\n",
        "print(arr.reshape(3,2)) #reshape the array\n",
        "print(arr.flatten()) #flat the matrix to 1D\n",
        "\n",
        "A=np.array([1,2,3])\n",
        "B=np.array([4,5,6])\n",
        "print(A+B)\n",
        "print(A*B)\n",
        "#broadcasting\n",
        "C=np.array([[1],[2],[3]]) #like a multipication of matrix\n",
        "D=np.array([10,20,30])\n",
        "print(C+D)\n",
        "\n",
        "ar=np.array([[1,2],[3,4]])\n",
        "print(ar.sum())\n",
        "print(ar.mean())\n",
        "print(ar.max(axis=0))  #0-> rows  1->cols\n",
        "print(np.median(ar))\n",
        "\n",
        "t=np.array([1,2,3,4,5])\n",
        "mask=t>3\n",
        "print(t[mask])  #filter the nember grater than 3\n",
        "\n"
      ]
    },
    {
      "cell_type": "markdown",
      "source": [
        "pandas is an open source python library primarilly used for data manipulaton and analysis. it provides data structure"
      ],
      "metadata": {
        "id": "F4MEKTIdS-mE"
      }
    },
    {
      "cell_type": "code",
      "source": [
        "#pandas\n",
        "import pandas as pd\n",
        "dict={\"name\":[\"aditi\",\"adi\",\"adu\"],\"marks\":[\"98\",\"95\",\"96\"],\"grade\":[\"S\",\"S\",\"S\"]}\n",
        "df=pd.DataFrame(dict)\n",
        "print(df)\n",
        "\n",
        "import pandas as pd\n",
        "dict ={\n",
        "  \"name\": [\"yash\", \"manusri\", \"likhitha\", \"arjun\", \"neha\", \"raj\", \"simran\", \"vikram\",\n",
        "           \"tara\", \"rahul\", \"meera\", \"kiran\", \"aditya\", \"mira\", \"nisha\", \"sanjay\", \"preeti\", \"varun\", \"sona\", \"karan\",\n",
        "           \"isha\", \"dev\", \"rhea\", \"anita\", \"naveen\", \"pallavi\", \"nikhil\", \"reena\", \"jay\", \"sakshi\", \"vivek\",\n",
        "           \"sona\", \"deepak\", \"tanvi\", \"om\", \"kavya\", \"yuvraj\", \"isha\", \"arjun\", \"neha\", \"raj\", \"manusri\",\n",
        "           \"likhitha\", \"vikram\", \"simran\", \"aditya\", \"tara\", \"mira\", \"rahul\", \"sanjay\", \"preeti\", \"varun\", \"karan\", \"isha\", \"dev\", \"rhea\", \"anita\", \"naveen\"],\n",
        "  \"marks\": [\"0\", \"80\", \"70\", \"85\", \"90\", \"75\", \"60\", \"95\",\n",
        "           \"78\", \"88\", \"92\", \"67\", \"84\", \"73\", \"81\", \"90\", \"69\", \"55\", \"77\", \"83\",\n",
        "           \"62\", \"96\", \"88\", \"79\", \"85\", \"67\", \"54\", \"75\", \"80\", \"91\", \"68\",\n",
        "           \"77\", \"82\", \"74\", \"89\", \"66\", \"93\", \"70\", \"85\", \"90\", \"75\", \"60\",\n",
        "           \"95\", \"88\", \"72\", \"80\", \"67\", \"79\", \"85\", \"90\", \"88\", \"73\", \"81\", \"77\", \"69\", \"84\", \"62\", \"79\"],\n",
        "\"grade\": [\"b\", \"a\", \"c\", \"a\", \"a\", \"b\", \"c\", \"a\",\n",
        "            \"b\", \"a\", \"a\", \"c\", \"b\", \"c\", \"b\", \"a\", \"c\", \"d\", \"b\", \"b\",\n",
        "            \"d\", \"a\", \"a\", \"b\", \"a\", \"c\", \"d\", \"b\", \"b\", \"a\", \"c\",\n",
        "            \"b\", \"b\", \"c\", \"a\", \"d\", \"a\", \"c\", \"a\", \"a\", \"b\", \"c\",\n",
        "            \"a\", \"a\", \"c\", \"b\", \"d\", \"b\", \"a\", \"a\", \"a\", \"c\", \"b\", \"b\", \"c\", \"a\", \"d\", \"b\" ],\n",
        "\"age\": [14, 18, 20, 16, 19, 17, 15, 21,\n",
        "          18, 20, 19, 15, 17, 16, 18, 21, 15, 14, 17, 19,\n",
        "          16, 22, 20, 18, 21, 15, 14, 17, 19, 22, 16,\n",
        "          18, 20, 15, 21, 16, 22, 19, 18, 21, 17, 15,\n",
        "          22, 20, 16, 18, 15, 17, 19, 21, 20, 16, 18, 17, 15, 19, 16, 21]\n",
        "}\n",
        "df=pd.DataFrame(dict)\n",
        "duplicate_list=df.drop(\"age\",axis=1,inplace=False)\n",
        "print(df)\n",
        "print(duplicate_list)\n",
        "df.rename(columns={\"marks\":\"percentage\"},inplace=True)\n",
        "print(df)\n"
      ],
      "metadata": {
        "colab": {
          "base_uri": "https://localhost:8080/"
        },
        "id": "Cxgy3TUtT9S6",
        "outputId": "d4dbf8a4-df10-4a33-93d6-f1dd7c5d53c1"
      },
      "execution_count": 8,
      "outputs": [
        {
          "output_type": "stream",
          "name": "stdout",
          "text": [
            "    name marks grade\n",
            "0  aditi    98     S\n",
            "1    adi    95     S\n",
            "2    adu    96     S\n",
            "        name marks grade  age\n",
            "0       yash     0     b   14\n",
            "1    manusri    80     a   18\n",
            "2   likhitha    70     c   20\n",
            "3      arjun    85     a   16\n",
            "4       neha    90     a   19\n",
            "5        raj    75     b   17\n",
            "6     simran    60     c   15\n",
            "7     vikram    95     a   21\n",
            "8       tara    78     b   18\n",
            "9      rahul    88     a   20\n",
            "10     meera    92     a   19\n",
            "11     kiran    67     c   15\n",
            "12    aditya    84     b   17\n",
            "13      mira    73     c   16\n",
            "14     nisha    81     b   18\n",
            "15    sanjay    90     a   21\n",
            "16    preeti    69     c   15\n",
            "17     varun    55     d   14\n",
            "18      sona    77     b   17\n",
            "19     karan    83     b   19\n",
            "20      isha    62     d   16\n",
            "21       dev    96     a   22\n",
            "22      rhea    88     a   20\n",
            "23     anita    79     b   18\n",
            "24    naveen    85     a   21\n",
            "25   pallavi    67     c   15\n",
            "26    nikhil    54     d   14\n",
            "27     reena    75     b   17\n",
            "28       jay    80     b   19\n",
            "29    sakshi    91     a   22\n",
            "30     vivek    68     c   16\n",
            "31      sona    77     b   18\n",
            "32    deepak    82     b   20\n",
            "33     tanvi    74     c   15\n",
            "34        om    89     a   21\n",
            "35     kavya    66     d   16\n",
            "36    yuvraj    93     a   22\n",
            "37      isha    70     c   19\n",
            "38     arjun    85     a   18\n",
            "39      neha    90     a   21\n",
            "40       raj    75     b   17\n",
            "41   manusri    60     c   15\n",
            "42  likhitha    95     a   22\n",
            "43    vikram    88     a   20\n",
            "44    simran    72     c   16\n",
            "45    aditya    80     b   18\n",
            "46      tara    67     d   15\n",
            "47      mira    79     b   17\n",
            "48     rahul    85     a   19\n",
            "49    sanjay    90     a   21\n",
            "50    preeti    88     a   20\n",
            "51     varun    73     c   16\n",
            "52     karan    81     b   18\n",
            "53      isha    77     b   17\n",
            "54       dev    69     c   15\n",
            "55      rhea    84     a   19\n",
            "56     anita    62     d   16\n",
            "57    naveen    79     b   21\n",
            "        name marks grade\n",
            "0       yash     0     b\n",
            "1    manusri    80     a\n",
            "2   likhitha    70     c\n",
            "3      arjun    85     a\n",
            "4       neha    90     a\n",
            "5        raj    75     b\n",
            "6     simran    60     c\n",
            "7     vikram    95     a\n",
            "8       tara    78     b\n",
            "9      rahul    88     a\n",
            "10     meera    92     a\n",
            "11     kiran    67     c\n",
            "12    aditya    84     b\n",
            "13      mira    73     c\n",
            "14     nisha    81     b\n",
            "15    sanjay    90     a\n",
            "16    preeti    69     c\n",
            "17     varun    55     d\n",
            "18      sona    77     b\n",
            "19     karan    83     b\n",
            "20      isha    62     d\n",
            "21       dev    96     a\n",
            "22      rhea    88     a\n",
            "23     anita    79     b\n",
            "24    naveen    85     a\n",
            "25   pallavi    67     c\n",
            "26    nikhil    54     d\n",
            "27     reena    75     b\n",
            "28       jay    80     b\n",
            "29    sakshi    91     a\n",
            "30     vivek    68     c\n",
            "31      sona    77     b\n",
            "32    deepak    82     b\n",
            "33     tanvi    74     c\n",
            "34        om    89     a\n",
            "35     kavya    66     d\n",
            "36    yuvraj    93     a\n",
            "37      isha    70     c\n",
            "38     arjun    85     a\n",
            "39      neha    90     a\n",
            "40       raj    75     b\n",
            "41   manusri    60     c\n",
            "42  likhitha    95     a\n",
            "43    vikram    88     a\n",
            "44    simran    72     c\n",
            "45    aditya    80     b\n",
            "46      tara    67     d\n",
            "47      mira    79     b\n",
            "48     rahul    85     a\n",
            "49    sanjay    90     a\n",
            "50    preeti    88     a\n",
            "51     varun    73     c\n",
            "52     karan    81     b\n",
            "53      isha    77     b\n",
            "54       dev    69     c\n",
            "55      rhea    84     a\n",
            "56     anita    62     d\n",
            "57    naveen    79     b\n",
            "        name percentage grade  age\n",
            "0       yash          0     b   14\n",
            "1    manusri         80     a   18\n",
            "2   likhitha         70     c   20\n",
            "3      arjun         85     a   16\n",
            "4       neha         90     a   19\n",
            "5        raj         75     b   17\n",
            "6     simran         60     c   15\n",
            "7     vikram         95     a   21\n",
            "8       tara         78     b   18\n",
            "9      rahul         88     a   20\n",
            "10     meera         92     a   19\n",
            "11     kiran         67     c   15\n",
            "12    aditya         84     b   17\n",
            "13      mira         73     c   16\n",
            "14     nisha         81     b   18\n",
            "15    sanjay         90     a   21\n",
            "16    preeti         69     c   15\n",
            "17     varun         55     d   14\n",
            "18      sona         77     b   17\n",
            "19     karan         83     b   19\n",
            "20      isha         62     d   16\n",
            "21       dev         96     a   22\n",
            "22      rhea         88     a   20\n",
            "23     anita         79     b   18\n",
            "24    naveen         85     a   21\n",
            "25   pallavi         67     c   15\n",
            "26    nikhil         54     d   14\n",
            "27     reena         75     b   17\n",
            "28       jay         80     b   19\n",
            "29    sakshi         91     a   22\n",
            "30     vivek         68     c   16\n",
            "31      sona         77     b   18\n",
            "32    deepak         82     b   20\n",
            "33     tanvi         74     c   15\n",
            "34        om         89     a   21\n",
            "35     kavya         66     d   16\n",
            "36    yuvraj         93     a   22\n",
            "37      isha         70     c   19\n",
            "38     arjun         85     a   18\n",
            "39      neha         90     a   21\n",
            "40       raj         75     b   17\n",
            "41   manusri         60     c   15\n",
            "42  likhitha         95     a   22\n",
            "43    vikram         88     a   20\n",
            "44    simran         72     c   16\n",
            "45    aditya         80     b   18\n",
            "46      tara         67     d   15\n",
            "47      mira         79     b   17\n",
            "48     rahul         85     a   19\n",
            "49    sanjay         90     a   21\n",
            "50    preeti         88     a   20\n",
            "51     varun         73     c   16\n",
            "52     karan         81     b   18\n",
            "53      isha         77     b   17\n",
            "54       dev         69     c   15\n",
            "55      rhea         84     a   19\n",
            "56     anita         62     d   16\n",
            "57    naveen         79     b   21\n"
          ]
        }
      ]
    },
    {
      "cell_type": "code",
      "source": [
        "import pandas as pd\n",
        "import numpy as np\n",
        "df=pd.DataFrame({\n",
        "    \"name\":[\"alice\",None,\"charlie\"],\"marks\":[85,np.nan,95]\n",
        "}\n",
        ")\n",
        "print(df)\n",
        "'''print(df.isnull())\n",
        "print(df.fillna(0))''' #will change na to 0\n",
        "print(df.dropna(inplace=True))\n",
        "print(df)"
      ],
      "metadata": {
        "colab": {
          "base_uri": "https://localhost:8080/"
        },
        "id": "LccH5pRLgf1_",
        "outputId": "b25052cb-863f-4375-bde0-66bfe78c92c1"
      },
      "execution_count": 12,
      "outputs": [
        {
          "output_type": "stream",
          "name": "stdout",
          "text": [
            "      name  marks\n",
            "0    alice   85.0\n",
            "1     None    NaN\n",
            "2  charlie   95.0\n",
            "None\n",
            "      name  marks\n",
            "0    alice   85.0\n",
            "2  charlie   95.0\n"
          ]
        }
      ]
    },
    {
      "cell_type": "code",
      "source": [
        "import pandas as pd\n",
        "import numpy as np\n",
        "'''df=pd.DataFrame({'category':['A','B','A','C','B','A'],'Value':[10,15,12,20,18,17]})\n",
        "print(df.groupby(\"category\")[\"Value\"].mean())'''\n",
        "student_data=pd.read_csv(\"student.csv\")\n",
        "print(student_data)"
      ],
      "metadata": {
        "colab": {
          "base_uri": "https://localhost:8080/",
          "height": 339
        },
        "id": "7f5qM4nQt1eE",
        "outputId": "bf700202-29ba-4d58-94bd-6edf6000e726"
      },
      "execution_count": 14,
      "outputs": [
        {
          "output_type": "error",
          "ename": "FileNotFoundError",
          "evalue": "[Errno 2] No such file or directory: 'student.csv'",
          "traceback": [
            "\u001b[0;31m---------------------------------------------------------------------------\u001b[0m",
            "\u001b[0;31mFileNotFoundError\u001b[0m                         Traceback (most recent call last)",
            "\u001b[0;32m/tmp/ipython-input-14-1192356201.py\u001b[0m in \u001b[0;36m<cell line: 0>\u001b[0;34m()\u001b[0m\n\u001b[1;32m      3\u001b[0m '''df=pd.DataFrame({'category':['A','B','A','C','B','A'],'Value':[10,15,12,20,18,17]})\n\u001b[1;32m      4\u001b[0m print(df.groupby(\"category\")[\"Value\"].mean())'''\n\u001b[0;32m----> 5\u001b[0;31m \u001b[0mstudent_data\u001b[0m\u001b[0;34m=\u001b[0m\u001b[0mpd\u001b[0m\u001b[0;34m.\u001b[0m\u001b[0mread_csv\u001b[0m\u001b[0;34m(\u001b[0m\u001b[0;34m\"student.csv\"\u001b[0m\u001b[0;34m)\u001b[0m\u001b[0;34m\u001b[0m\u001b[0;34m\u001b[0m\u001b[0m\n\u001b[0m\u001b[1;32m      6\u001b[0m \u001b[0mprint\u001b[0m\u001b[0;34m(\u001b[0m\u001b[0mstudent_data\u001b[0m\u001b[0;34m)\u001b[0m\u001b[0;34m\u001b[0m\u001b[0;34m\u001b[0m\u001b[0m\n",
            "\u001b[0;32m/usr/local/lib/python3.11/dist-packages/pandas/io/parsers/readers.py\u001b[0m in \u001b[0;36mread_csv\u001b[0;34m(filepath_or_buffer, sep, delimiter, header, names, index_col, usecols, dtype, engine, converters, true_values, false_values, skipinitialspace, skiprows, skipfooter, nrows, na_values, keep_default_na, na_filter, verbose, skip_blank_lines, parse_dates, infer_datetime_format, keep_date_col, date_parser, date_format, dayfirst, cache_dates, iterator, chunksize, compression, thousands, decimal, lineterminator, quotechar, quoting, doublequote, escapechar, comment, encoding, encoding_errors, dialect, on_bad_lines, delim_whitespace, low_memory, memory_map, float_precision, storage_options, dtype_backend)\u001b[0m\n\u001b[1;32m   1024\u001b[0m     \u001b[0mkwds\u001b[0m\u001b[0;34m.\u001b[0m\u001b[0mupdate\u001b[0m\u001b[0;34m(\u001b[0m\u001b[0mkwds_defaults\u001b[0m\u001b[0;34m)\u001b[0m\u001b[0;34m\u001b[0m\u001b[0;34m\u001b[0m\u001b[0m\n\u001b[1;32m   1025\u001b[0m \u001b[0;34m\u001b[0m\u001b[0m\n\u001b[0;32m-> 1026\u001b[0;31m     \u001b[0;32mreturn\u001b[0m \u001b[0m_read\u001b[0m\u001b[0;34m(\u001b[0m\u001b[0mfilepath_or_buffer\u001b[0m\u001b[0;34m,\u001b[0m \u001b[0mkwds\u001b[0m\u001b[0;34m)\u001b[0m\u001b[0;34m\u001b[0m\u001b[0;34m\u001b[0m\u001b[0m\n\u001b[0m\u001b[1;32m   1027\u001b[0m \u001b[0;34m\u001b[0m\u001b[0m\n\u001b[1;32m   1028\u001b[0m \u001b[0;34m\u001b[0m\u001b[0m\n",
            "\u001b[0;32m/usr/local/lib/python3.11/dist-packages/pandas/io/parsers/readers.py\u001b[0m in \u001b[0;36m_read\u001b[0;34m(filepath_or_buffer, kwds)\u001b[0m\n\u001b[1;32m    618\u001b[0m \u001b[0;34m\u001b[0m\u001b[0m\n\u001b[1;32m    619\u001b[0m     \u001b[0;31m# Create the parser.\u001b[0m\u001b[0;34m\u001b[0m\u001b[0;34m\u001b[0m\u001b[0m\n\u001b[0;32m--> 620\u001b[0;31m     \u001b[0mparser\u001b[0m \u001b[0;34m=\u001b[0m \u001b[0mTextFileReader\u001b[0m\u001b[0;34m(\u001b[0m\u001b[0mfilepath_or_buffer\u001b[0m\u001b[0;34m,\u001b[0m \u001b[0;34m**\u001b[0m\u001b[0mkwds\u001b[0m\u001b[0;34m)\u001b[0m\u001b[0;34m\u001b[0m\u001b[0;34m\u001b[0m\u001b[0m\n\u001b[0m\u001b[1;32m    621\u001b[0m \u001b[0;34m\u001b[0m\u001b[0m\n\u001b[1;32m    622\u001b[0m     \u001b[0;32mif\u001b[0m \u001b[0mchunksize\u001b[0m \u001b[0;32mor\u001b[0m \u001b[0miterator\u001b[0m\u001b[0;34m:\u001b[0m\u001b[0;34m\u001b[0m\u001b[0;34m\u001b[0m\u001b[0m\n",
            "\u001b[0;32m/usr/local/lib/python3.11/dist-packages/pandas/io/parsers/readers.py\u001b[0m in \u001b[0;36m__init__\u001b[0;34m(self, f, engine, **kwds)\u001b[0m\n\u001b[1;32m   1618\u001b[0m \u001b[0;34m\u001b[0m\u001b[0m\n\u001b[1;32m   1619\u001b[0m         \u001b[0mself\u001b[0m\u001b[0;34m.\u001b[0m\u001b[0mhandles\u001b[0m\u001b[0;34m:\u001b[0m \u001b[0mIOHandles\u001b[0m \u001b[0;34m|\u001b[0m \u001b[0;32mNone\u001b[0m \u001b[0;34m=\u001b[0m \u001b[0;32mNone\u001b[0m\u001b[0;34m\u001b[0m\u001b[0;34m\u001b[0m\u001b[0m\n\u001b[0;32m-> 1620\u001b[0;31m         \u001b[0mself\u001b[0m\u001b[0;34m.\u001b[0m\u001b[0m_engine\u001b[0m \u001b[0;34m=\u001b[0m \u001b[0mself\u001b[0m\u001b[0;34m.\u001b[0m\u001b[0m_make_engine\u001b[0m\u001b[0;34m(\u001b[0m\u001b[0mf\u001b[0m\u001b[0;34m,\u001b[0m \u001b[0mself\u001b[0m\u001b[0;34m.\u001b[0m\u001b[0mengine\u001b[0m\u001b[0;34m)\u001b[0m\u001b[0;34m\u001b[0m\u001b[0;34m\u001b[0m\u001b[0m\n\u001b[0m\u001b[1;32m   1621\u001b[0m \u001b[0;34m\u001b[0m\u001b[0m\n\u001b[1;32m   1622\u001b[0m     \u001b[0;32mdef\u001b[0m \u001b[0mclose\u001b[0m\u001b[0;34m(\u001b[0m\u001b[0mself\u001b[0m\u001b[0;34m)\u001b[0m \u001b[0;34m->\u001b[0m \u001b[0;32mNone\u001b[0m\u001b[0;34m:\u001b[0m\u001b[0;34m\u001b[0m\u001b[0;34m\u001b[0m\u001b[0m\n",
            "\u001b[0;32m/usr/local/lib/python3.11/dist-packages/pandas/io/parsers/readers.py\u001b[0m in \u001b[0;36m_make_engine\u001b[0;34m(self, f, engine)\u001b[0m\n\u001b[1;32m   1878\u001b[0m                 \u001b[0;32mif\u001b[0m \u001b[0;34m\"b\"\u001b[0m \u001b[0;32mnot\u001b[0m \u001b[0;32min\u001b[0m \u001b[0mmode\u001b[0m\u001b[0;34m:\u001b[0m\u001b[0;34m\u001b[0m\u001b[0;34m\u001b[0m\u001b[0m\n\u001b[1;32m   1879\u001b[0m                     \u001b[0mmode\u001b[0m \u001b[0;34m+=\u001b[0m \u001b[0;34m\"b\"\u001b[0m\u001b[0;34m\u001b[0m\u001b[0;34m\u001b[0m\u001b[0m\n\u001b[0;32m-> 1880\u001b[0;31m             self.handles = get_handle(\n\u001b[0m\u001b[1;32m   1881\u001b[0m                 \u001b[0mf\u001b[0m\u001b[0;34m,\u001b[0m\u001b[0;34m\u001b[0m\u001b[0;34m\u001b[0m\u001b[0m\n\u001b[1;32m   1882\u001b[0m                 \u001b[0mmode\u001b[0m\u001b[0;34m,\u001b[0m\u001b[0;34m\u001b[0m\u001b[0;34m\u001b[0m\u001b[0m\n",
            "\u001b[0;32m/usr/local/lib/python3.11/dist-packages/pandas/io/common.py\u001b[0m in \u001b[0;36mget_handle\u001b[0;34m(path_or_buf, mode, encoding, compression, memory_map, is_text, errors, storage_options)\u001b[0m\n\u001b[1;32m    871\u001b[0m         \u001b[0;32mif\u001b[0m \u001b[0mioargs\u001b[0m\u001b[0;34m.\u001b[0m\u001b[0mencoding\u001b[0m \u001b[0;32mand\u001b[0m \u001b[0;34m\"b\"\u001b[0m \u001b[0;32mnot\u001b[0m \u001b[0;32min\u001b[0m \u001b[0mioargs\u001b[0m\u001b[0;34m.\u001b[0m\u001b[0mmode\u001b[0m\u001b[0;34m:\u001b[0m\u001b[0;34m\u001b[0m\u001b[0;34m\u001b[0m\u001b[0m\n\u001b[1;32m    872\u001b[0m             \u001b[0;31m# Encoding\u001b[0m\u001b[0;34m\u001b[0m\u001b[0;34m\u001b[0m\u001b[0m\n\u001b[0;32m--> 873\u001b[0;31m             handle = open(\n\u001b[0m\u001b[1;32m    874\u001b[0m                 \u001b[0mhandle\u001b[0m\u001b[0;34m,\u001b[0m\u001b[0;34m\u001b[0m\u001b[0;34m\u001b[0m\u001b[0m\n\u001b[1;32m    875\u001b[0m                 \u001b[0mioargs\u001b[0m\u001b[0;34m.\u001b[0m\u001b[0mmode\u001b[0m\u001b[0;34m,\u001b[0m\u001b[0;34m\u001b[0m\u001b[0;34m\u001b[0m\u001b[0m\n",
            "\u001b[0;31mFileNotFoundError\u001b[0m: [Errno 2] No such file or directory: 'student.csv'"
          ]
        }
      ]
    },
    {
      "cell_type": "code",
      "source": [
        "from google.colab import drive\n",
        "drive.mount('/content/drive')"
      ],
      "metadata": {
        "colab": {
          "base_uri": "https://localhost:8080/",
          "height": 304
        },
        "id": "tGZ9khUGykWU",
        "outputId": "33ac639e-e7d0-4afb-a799-3f0f1533560a"
      },
      "execution_count": 15,
      "outputs": [
        {
          "output_type": "error",
          "ename": "MessageError",
          "evalue": "Error: credential propagation was unsuccessful",
          "traceback": [
            "\u001b[0;31m---------------------------------------------------------------------------\u001b[0m",
            "\u001b[0;31mMessageError\u001b[0m                              Traceback (most recent call last)",
            "\u001b[0;32m/tmp/ipython-input-15-1408506528.py\u001b[0m in \u001b[0;36m<cell line: 0>\u001b[0;34m()\u001b[0m\n\u001b[1;32m      1\u001b[0m \u001b[0;32mfrom\u001b[0m \u001b[0mgoogle\u001b[0m\u001b[0;34m.\u001b[0m\u001b[0mcolab\u001b[0m \u001b[0;32mimport\u001b[0m \u001b[0mdrive\u001b[0m\u001b[0;34m\u001b[0m\u001b[0;34m\u001b[0m\u001b[0m\n\u001b[0;32m----> 2\u001b[0;31m \u001b[0mdrive\u001b[0m\u001b[0;34m.\u001b[0m\u001b[0mmount\u001b[0m\u001b[0;34m(\u001b[0m\u001b[0;34m'/content/drive'\u001b[0m\u001b[0;34m)\u001b[0m\u001b[0;34m\u001b[0m\u001b[0;34m\u001b[0m\u001b[0m\n\u001b[0m",
            "\u001b[0;32m/usr/local/lib/python3.11/dist-packages/google/colab/drive.py\u001b[0m in \u001b[0;36mmount\u001b[0;34m(mountpoint, force_remount, timeout_ms, readonly)\u001b[0m\n\u001b[1;32m     98\u001b[0m \u001b[0;32mdef\u001b[0m \u001b[0mmount\u001b[0m\u001b[0;34m(\u001b[0m\u001b[0mmountpoint\u001b[0m\u001b[0;34m,\u001b[0m \u001b[0mforce_remount\u001b[0m\u001b[0;34m=\u001b[0m\u001b[0;32mFalse\u001b[0m\u001b[0;34m,\u001b[0m \u001b[0mtimeout_ms\u001b[0m\u001b[0;34m=\u001b[0m\u001b[0;36m120000\u001b[0m\u001b[0;34m,\u001b[0m \u001b[0mreadonly\u001b[0m\u001b[0;34m=\u001b[0m\u001b[0;32mFalse\u001b[0m\u001b[0;34m)\u001b[0m\u001b[0;34m:\u001b[0m\u001b[0;34m\u001b[0m\u001b[0;34m\u001b[0m\u001b[0m\n\u001b[1;32m     99\u001b[0m   \u001b[0;34m\"\"\"Mount your Google Drive at the specified mountpoint path.\"\"\"\u001b[0m\u001b[0;34m\u001b[0m\u001b[0;34m\u001b[0m\u001b[0m\n\u001b[0;32m--> 100\u001b[0;31m   return _mount(\n\u001b[0m\u001b[1;32m    101\u001b[0m       \u001b[0mmountpoint\u001b[0m\u001b[0;34m,\u001b[0m\u001b[0;34m\u001b[0m\u001b[0;34m\u001b[0m\u001b[0m\n\u001b[1;32m    102\u001b[0m       \u001b[0mforce_remount\u001b[0m\u001b[0;34m=\u001b[0m\u001b[0mforce_remount\u001b[0m\u001b[0;34m,\u001b[0m\u001b[0;34m\u001b[0m\u001b[0;34m\u001b[0m\u001b[0m\n",
            "\u001b[0;32m/usr/local/lib/python3.11/dist-packages/google/colab/drive.py\u001b[0m in \u001b[0;36m_mount\u001b[0;34m(mountpoint, force_remount, timeout_ms, ephemeral, readonly)\u001b[0m\n\u001b[1;32m    135\u001b[0m   )\n\u001b[1;32m    136\u001b[0m   \u001b[0;32mif\u001b[0m \u001b[0mephemeral\u001b[0m\u001b[0;34m:\u001b[0m\u001b[0;34m\u001b[0m\u001b[0;34m\u001b[0m\u001b[0m\n\u001b[0;32m--> 137\u001b[0;31m     _message.blocking_request(\n\u001b[0m\u001b[1;32m    138\u001b[0m         \u001b[0;34m'request_auth'\u001b[0m\u001b[0;34m,\u001b[0m\u001b[0;34m\u001b[0m\u001b[0;34m\u001b[0m\u001b[0m\n\u001b[1;32m    139\u001b[0m         \u001b[0mrequest\u001b[0m\u001b[0;34m=\u001b[0m\u001b[0;34m{\u001b[0m\u001b[0;34m'authType'\u001b[0m\u001b[0;34m:\u001b[0m \u001b[0;34m'dfs_ephemeral'\u001b[0m\u001b[0;34m}\u001b[0m\u001b[0;34m,\u001b[0m\u001b[0;34m\u001b[0m\u001b[0;34m\u001b[0m\u001b[0m\n",
            "\u001b[0;32m/usr/local/lib/python3.11/dist-packages/google/colab/_message.py\u001b[0m in \u001b[0;36mblocking_request\u001b[0;34m(request_type, request, timeout_sec, parent)\u001b[0m\n\u001b[1;32m    174\u001b[0m       \u001b[0mrequest_type\u001b[0m\u001b[0;34m,\u001b[0m \u001b[0mrequest\u001b[0m\u001b[0;34m,\u001b[0m \u001b[0mparent\u001b[0m\u001b[0;34m=\u001b[0m\u001b[0mparent\u001b[0m\u001b[0;34m,\u001b[0m \u001b[0mexpect_reply\u001b[0m\u001b[0;34m=\u001b[0m\u001b[0;32mTrue\u001b[0m\u001b[0;34m\u001b[0m\u001b[0;34m\u001b[0m\u001b[0m\n\u001b[1;32m    175\u001b[0m   )\n\u001b[0;32m--> 176\u001b[0;31m   \u001b[0;32mreturn\u001b[0m \u001b[0mread_reply_from_input\u001b[0m\u001b[0;34m(\u001b[0m\u001b[0mrequest_id\u001b[0m\u001b[0;34m,\u001b[0m \u001b[0mtimeout_sec\u001b[0m\u001b[0;34m)\u001b[0m\u001b[0;34m\u001b[0m\u001b[0;34m\u001b[0m\u001b[0m\n\u001b[0m",
            "\u001b[0;32m/usr/local/lib/python3.11/dist-packages/google/colab/_message.py\u001b[0m in \u001b[0;36mread_reply_from_input\u001b[0;34m(message_id, timeout_sec)\u001b[0m\n\u001b[1;32m    101\u001b[0m     ):\n\u001b[1;32m    102\u001b[0m       \u001b[0;32mif\u001b[0m \u001b[0;34m'error'\u001b[0m \u001b[0;32min\u001b[0m \u001b[0mreply\u001b[0m\u001b[0;34m:\u001b[0m\u001b[0;34m\u001b[0m\u001b[0;34m\u001b[0m\u001b[0m\n\u001b[0;32m--> 103\u001b[0;31m         \u001b[0;32mraise\u001b[0m \u001b[0mMessageError\u001b[0m\u001b[0;34m(\u001b[0m\u001b[0mreply\u001b[0m\u001b[0;34m[\u001b[0m\u001b[0;34m'error'\u001b[0m\u001b[0;34m]\u001b[0m\u001b[0;34m)\u001b[0m\u001b[0;34m\u001b[0m\u001b[0;34m\u001b[0m\u001b[0m\n\u001b[0m\u001b[1;32m    104\u001b[0m       \u001b[0;32mreturn\u001b[0m \u001b[0mreply\u001b[0m\u001b[0;34m.\u001b[0m\u001b[0mget\u001b[0m\u001b[0;34m(\u001b[0m\u001b[0;34m'data'\u001b[0m\u001b[0;34m,\u001b[0m \u001b[0;32mNone\u001b[0m\u001b[0;34m)\u001b[0m\u001b[0;34m\u001b[0m\u001b[0;34m\u001b[0m\u001b[0m\n\u001b[1;32m    105\u001b[0m \u001b[0;34m\u001b[0m\u001b[0m\n",
            "\u001b[0;31mMessageError\u001b[0m: Error: credential propagation was unsuccessful"
          ]
        }
      ]
    },
    {
      "cell_type": "code",
      "source": [
        "'''data = {\n",
        "    \"student\":[\"amit\",\"sara\",\"neha\"],\n",
        "    \"maths\":[80,85,90],\n",
        "    \"sci\":[75,88,92],\n",
        "    \"eng\":[78,80,85],\n",
        "}\n",
        "df=pd.DataFrame(data)\n",
        "df[\"avg\"]=df[[\"maths\",\"sci\",\"eng\"]].mean(axis=1)\n",
        "print(df.sort_values(by=\"avg\",ascending=False))'''\n",
        "\n",
        "'''import pandas as pd\n",
        "s1=pd.Series([10,20,30,40])\n",
        "s2=pd.Series([100,200,300],index=['a','b','c'])\n",
        "s3=pd.Series({'x':5,'y':10,'z':15})'''\n",
        "'''print(s1)\n",
        "print(s2)\n",
        "print(s3)\n",
        "print(s1.index)\n",
        "print(s1.values)\n",
        "print(s1.dtype)\n",
        "print(s1.size)\n",
        "print(s1.shape)\n",
        "print(s2['b'])\n",
        "print(s2[1])\n",
        "print(s2[['a','c']])\n",
        "print(s2[0:2])\n",
        "s2['b']=250\n",
        "s2['d']=400\n",
        "s2.drop('a',inplace=True)\n",
        "print(s2)'''\n",
        "import numpy as np\n",
        "import pandas as pd\n",
        "'''s = pd.Series([1,2,3])\n",
        "print(s+2)\n",
        "print(s*10)\n",
        "print(s**2)\n",
        "\n",
        "s=pd.Series([5,10,15,20])\n",
        "print(s[s>10])'''\n",
        "\n",
        "'''s=pd.Series([10,None,30,np.nan])\n",
        "print(s.isnull())\n",
        "print(s.notnull())\n",
        "print(s.fillna(0))\n",
        "print(s.dropna())'''\n",
        "\n",
        "'''s=pd.Series([10,20,30,40,50])\n",
        "print(s.sum())\n",
        "print(s.mean())\n",
        "print(s.min(),s.max())\n",
        "print(s.std())\n",
        "print(s.describe())'''\n",
        "\n",
        "\n",
        "names=pd.Series([\"Alice\",\"bob\",\"CHARLIE\",\"dave\"])\n",
        "print(names.str.upper())\n",
        "print(names.str.capitalize())\n",
        "print(names.str.contains(\"a\"))\n",
        "#sorting and ranking\n",
        "s = pd.Series([30,10,40,20],index=['d','b','a','c'])\n",
        "print(s.sort_values())\n",
        "print(s.sort_index())\n",
        "print(s.rank())\n",
        "\n",
        "s1 = pd.Series([10,20,30],index=['a','b','c'])\n",
        "s2 = pd.Series([5,15,25],index=['b','c','d'])\n",
        "print(s1+s2)\n",
        "\n"
      ],
      "metadata": {
        "colab": {
          "base_uri": "https://localhost:8080/"
        },
        "id": "yp48bJnzy81b",
        "outputId": "a8316582-a100-4e69-e394-1e79384b2060"
      },
      "execution_count": 37,
      "outputs": [
        {
          "output_type": "stream",
          "name": "stdout",
          "text": [
            "0      ALICE\n",
            "1        BOB\n",
            "2    CHARLIE\n",
            "3       DAVE\n",
            "dtype: object\n",
            "0      Alice\n",
            "1        Bob\n",
            "2    Charlie\n",
            "3       Dave\n",
            "dtype: object\n",
            "0    False\n",
            "1    False\n",
            "2    False\n",
            "3     True\n",
            "dtype: bool\n",
            "b    10\n",
            "c    20\n",
            "d    30\n",
            "a    40\n",
            "dtype: int64\n",
            "a    40\n",
            "b    10\n",
            "c    20\n",
            "d    30\n",
            "dtype: int64\n",
            "d    3.0\n",
            "b    1.0\n",
            "a    4.0\n",
            "c    2.0\n",
            "dtype: float64\n",
            "a     NaN\n",
            "b    25.0\n",
            "c    45.0\n",
            "d     NaN\n",
            "dtype: float64\n"
          ]
        }
      ]
    },
    {
      "cell_type": "markdown",
      "source": [
        "Matplotlib ia a powerful plotting library for Python,commonly used for:\n",
        "creating static,animated"
      ],
      "metadata": {
        "id": "e9Yxe0h-Bd2g"
      }
    },
    {
      "cell_type": "code",
      "source": [
        "import matplotlib.pyplot as plt\n",
        "x = [1,2,3,4,5]\n",
        "y = [10,15,13,18,16]\n",
        "plt.plot(x,y)\n",
        "plt.title(\"Basic Line Plot\")\n",
        "plt.xlabel(\"X-axis\")\n",
        "plt.ylabel(\"Y-axis\")\n",
        "plt.grid(True)\n",
        "plt.show()"
      ],
      "metadata": {
        "colab": {
          "base_uri": "https://localhost:8080/",
          "height": 472
        },
        "id": "WI2RswqyBpFI",
        "outputId": "b2a86d2a-be6e-467b-e849-745c57b76e0a"
      },
      "execution_count": 39,
      "outputs": [
        {
          "output_type": "display_data",
          "data": {
            "text/plain": [
              "<Figure size 640x480 with 1 Axes>"
            ],
            "image/png": "[encoded data removed]"
          },
          "metadata": {}
        }
      ]
    }
  ]
}